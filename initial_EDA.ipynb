{
 "cells": [
  {
   "cell_type": "code",
   "execution_count": 1,
   "id": "600ccbe8",
   "metadata": {},
   "outputs": [],
   "source": [
    "import numpy as np\n",
    "import pandas as pd\n",
    "import seaborn as sns\n",
    "import matplotlib.pyplot as plt"
   ]
  },
  {
   "cell_type": "code",
   "execution_count": 2,
   "id": "60425156",
   "metadata": {},
   "outputs": [
    {
     "data": {
      "text/plain": [
       "(404290, 6)"
      ]
     },
     "execution_count": 2,
     "metadata": {},
     "output_type": "execute_result"
    }
   ],
   "source": [
    "df = pd.read_csv(\"train.csv\")\n",
    "df.shape"
   ]
  },
  {
   "cell_type": "code",
   "execution_count": 3,
   "id": "5a3d86b9",
   "metadata": {},
   "outputs": [
    {
     "data": {
      "text/html": [
       "<div>\n",
       "<style scoped>\n",
       "    .dataframe tbody tr th:only-of-type {\n",
       "        vertical-align: middle;\n",
       "    }\n",
       "\n",
       "    .dataframe tbody tr th {\n",
       "        vertical-align: top;\n",
       "    }\n",
       "\n",
       "    .dataframe thead th {\n",
       "        text-align: right;\n",
       "    }\n",
       "</style>\n",
       "<table border=\"1\" class=\"dataframe\">\n",
       "  <thead>\n",
       "    <tr style=\"text-align: right;\">\n",
       "      <th></th>\n",
       "      <th>id</th>\n",
       "      <th>qid1</th>\n",
       "      <th>qid2</th>\n",
       "      <th>question1</th>\n",
       "      <th>question2</th>\n",
       "      <th>is_duplicate</th>\n",
       "    </tr>\n",
       "  </thead>\n",
       "  <tbody>\n",
       "    <tr>\n",
       "      <th>273465</th>\n",
       "      <td>273465</td>\n",
       "      <td>25798</td>\n",
       "      <td>50621</td>\n",
       "      <td>Does masturbation causes low sperm count?</td>\n",
       "      <td>How can excessive masturbation lead to low spe...</td>\n",
       "      <td>1</td>\n",
       "    </tr>\n",
       "    <tr>\n",
       "      <th>90589</th>\n",
       "      <td>90589</td>\n",
       "      <td>151989</td>\n",
       "      <td>151990</td>\n",
       "      <td>What can an individual or a family or a busine...</td>\n",
       "      <td>What can an individual or a family or a busine...</td>\n",
       "      <td>0</td>\n",
       "    </tr>\n",
       "    <tr>\n",
       "      <th>36339</th>\n",
       "      <td>36339</td>\n",
       "      <td>66271</td>\n",
       "      <td>66272</td>\n",
       "      <td>Who provides high pressure washing service in ...</td>\n",
       "      <td>Where can I get best pressure washing services...</td>\n",
       "      <td>1</td>\n",
       "    </tr>\n",
       "    <tr>\n",
       "      <th>370982</th>\n",
       "      <td>370982</td>\n",
       "      <td>501571</td>\n",
       "      <td>501572</td>\n",
       "      <td>What is yours best performance till date?</td>\n",
       "      <td>How will Donald Trump rebuild NYC's infrastruc...</td>\n",
       "      <td>0</td>\n",
       "    </tr>\n",
       "    <tr>\n",
       "      <th>201745</th>\n",
       "      <td>201745</td>\n",
       "      <td>103646</td>\n",
       "      <td>111349</td>\n",
       "      <td>Who is worse, Trump or Clinton?</td>\n",
       "      <td>Who's worse, Trump or Clinton?</td>\n",
       "      <td>1</td>\n",
       "    </tr>\n",
       "    <tr>\n",
       "      <th>282758</th>\n",
       "      <td>282758</td>\n",
       "      <td>402758</td>\n",
       "      <td>402759</td>\n",
       "      <td>Does the ground refill with dirt, probably due...</td>\n",
       "      <td>Can I grow back the brain cells I probably los...</td>\n",
       "      <td>0</td>\n",
       "    </tr>\n",
       "    <tr>\n",
       "      <th>39347</th>\n",
       "      <td>39347</td>\n",
       "      <td>71339</td>\n",
       "      <td>71340</td>\n",
       "      <td>Were Jews black people?</td>\n",
       "      <td>Is the claim that the ancient Egyptians were b...</td>\n",
       "      <td>0</td>\n",
       "    </tr>\n",
       "    <tr>\n",
       "      <th>400580</th>\n",
       "      <td>400580</td>\n",
       "      <td>533929</td>\n",
       "      <td>1378</td>\n",
       "      <td>What are the best Photo startups?</td>\n",
       "      <td>What is a good photo?</td>\n",
       "      <td>0</td>\n",
       "    </tr>\n",
       "    <tr>\n",
       "      <th>39097</th>\n",
       "      <td>39097</td>\n",
       "      <td>70916</td>\n",
       "      <td>70917</td>\n",
       "      <td>What are the differences between pharmacology ...</td>\n",
       "      <td>What is the best app for pharmacology?</td>\n",
       "      <td>0</td>\n",
       "    </tr>\n",
       "    <tr>\n",
       "      <th>45836</th>\n",
       "      <td>45836</td>\n",
       "      <td>82072</td>\n",
       "      <td>82073</td>\n",
       "      <td>How would history be changed if the Japanese h...</td>\n",
       "      <td>What if the Japanese won the Battle of Midway?</td>\n",
       "      <td>1</td>\n",
       "    </tr>\n",
       "  </tbody>\n",
       "</table>\n",
       "</div>"
      ],
      "text/plain": [
       "            id    qid1    qid2  \\\n",
       "273465  273465   25798   50621   \n",
       "90589    90589  151989  151990   \n",
       "36339    36339   66271   66272   \n",
       "370982  370982  501571  501572   \n",
       "201745  201745  103646  111349   \n",
       "282758  282758  402758  402759   \n",
       "39347    39347   71339   71340   \n",
       "400580  400580  533929    1378   \n",
       "39097    39097   70916   70917   \n",
       "45836    45836   82072   82073   \n",
       "\n",
       "                                                question1  \\\n",
       "273465          Does masturbation causes low sperm count?   \n",
       "90589   What can an individual or a family or a busine...   \n",
       "36339   Who provides high pressure washing service in ...   \n",
       "370982          What is yours best performance till date?   \n",
       "201745                    Who is worse, Trump or Clinton?   \n",
       "282758  Does the ground refill with dirt, probably due...   \n",
       "39347                             Were Jews black people?   \n",
       "400580                  What are the best Photo startups?   \n",
       "39097   What are the differences between pharmacology ...   \n",
       "45836   How would history be changed if the Japanese h...   \n",
       "\n",
       "                                                question2  is_duplicate  \n",
       "273465  How can excessive masturbation lead to low spe...             1  \n",
       "90589   What can an individual or a family or a busine...             0  \n",
       "36339   Where can I get best pressure washing services...             1  \n",
       "370982  How will Donald Trump rebuild NYC's infrastruc...             0  \n",
       "201745                     Who's worse, Trump or Clinton?             1  \n",
       "282758  Can I grow back the brain cells I probably los...             0  \n",
       "39347   Is the claim that the ancient Egyptians were b...             0  \n",
       "400580                              What is a good photo?             0  \n",
       "39097              What is the best app for pharmacology?             0  \n",
       "45836      What if the Japanese won the Battle of Midway?             1  "
      ]
     },
     "execution_count": 3,
     "metadata": {},
     "output_type": "execute_result"
    }
   ],
   "source": [
    "df.sample(10)"
   ]
  },
  {
   "cell_type": "code",
   "execution_count": 4,
   "id": "37b00141",
   "metadata": {},
   "outputs": [
    {
     "name": "stdout",
     "output_type": "stream",
     "text": [
      "<class 'pandas.core.frame.DataFrame'>\n",
      "RangeIndex: 404290 entries, 0 to 404289\n",
      "Data columns (total 6 columns):\n",
      " #   Column        Non-Null Count   Dtype \n",
      "---  ------        --------------   ----- \n",
      " 0   id            404290 non-null  int64 \n",
      " 1   qid1          404290 non-null  int64 \n",
      " 2   qid2          404290 non-null  int64 \n",
      " 3   question1     404289 non-null  object\n",
      " 4   question2     404288 non-null  object\n",
      " 5   is_duplicate  404290 non-null  int64 \n",
      "dtypes: int64(4), object(2)\n",
      "memory usage: 18.5+ MB\n"
     ]
    }
   ],
   "source": [
    "df.info()"
   ]
  },
  {
   "cell_type": "code",
   "execution_count": 5,
   "id": "c5b82789",
   "metadata": {},
   "outputs": [
    {
     "data": {
      "text/plain": [
       "id              0\n",
       "qid1            0\n",
       "qid2            0\n",
       "question1       1\n",
       "question2       2\n",
       "is_duplicate    0\n",
       "dtype: int64"
      ]
     },
     "execution_count": 5,
     "metadata": {},
     "output_type": "execute_result"
    }
   ],
   "source": [
    "# missing values\n",
    "df.isnull().sum()"
   ]
  },
  {
   "cell_type": "code",
   "execution_count": 6,
   "id": "e704abaf",
   "metadata": {},
   "outputs": [
    {
     "data": {
      "text/plain": [
       "0"
      ]
     },
     "execution_count": 6,
     "metadata": {},
     "output_type": "execute_result"
    }
   ],
   "source": [
    "# duplicate rows\n",
    "df.duplicated().sum()"
   ]
  },
  {
   "cell_type": "code",
   "execution_count": 7,
   "id": "3f9bd6af",
   "metadata": {},
   "outputs": [
    {
     "name": "stdout",
     "output_type": "stream",
     "text": [
      "0    255027\n",
      "1    149263\n",
      "Name: is_duplicate, dtype: int64\n",
      "0    63.080215\n",
      "1    36.919785\n",
      "Name: is_duplicate, dtype: float64\n"
     ]
    },
    {
     "data": {
      "text/plain": [
       "<Axes: >"
      ]
     },
     "execution_count": 7,
     "metadata": {},
     "output_type": "execute_result"
    },
    {
     "data": {
      "image/png": "[encoded data removed]",
      "text/plain": [
       "<Figure size 640x480 with 1 Axes>"
      ]
     },
     "metadata": {},
     "output_type": "display_data"
    }
   ],
   "source": [
    "# Distribution of duplicate and non-duplicate questions\n",
    "\n",
    "print(df['is_duplicate'].value_counts())\n",
    "print((df['is_duplicate'].value_counts()/df['is_duplicate'].count())*100)\n",
    "df['is_duplicate'].value_counts().plot(kind='bar')\n",
    "\n",
    "# garph analysis -> thora unbalanced hai dataset ek class(0) ki trf jada juka hua h "
   ]
  },
  {
   "cell_type": "code",
   "execution_count": 8,
   "id": "788d2d08",
   "metadata": {},
   "outputs": [
    {
     "name": "stdout",
     "output_type": "stream",
     "text": [
      "Number of unique questions 537933\n",
      "Number of questions getting repeated 111780\n"
     ]
    }
   ],
   "source": [
    "# Repeated questions\n",
    "\n",
    "qid = pd.Series(df['qid1'].tolist() + df['qid2'].tolist())\n",
    "print('Number of unique questions',np.unique(qid).shape[0])\n",
    "x = qid.value_counts()>1\n",
    "print('Number of questions getting repeated',x[x].shape[0])"
   ]
  },
  {
   "cell_type": "code",
   "execution_count": 9,
   "id": "2fa5bb83",
   "metadata": {},
   "outputs": [
    {
     "data": {
      "image/png": "[encoded data removed]",
      "text/plain": [
       "<Figure size 640x480 with 1 Axes>"
      ]
     },
     "metadata": {},
     "output_type": "display_data"
    }
   ],
   "source": [
    "# Repeated questions histogram\n",
    "\n",
    "plt.hist(qid.value_counts().values,bins=160)\n",
    "plt.yscale('log')\n",
    "plt.show()"
   ]
  },
  {
   "cell_type": "code",
   "execution_count": null,
   "id": "f9573e2f",
   "metadata": {},
   "outputs": [],
   "source": []
  }
 ],
 "metadata": {
  "kernelspec": {
   "display_name": "Python 3 (ipykernel)",
   "language": "python",
   "name": "python3"
  },
  "language_info": {
   "codemirror_mode": {
    "name": "ipython",
    "version": 3
   },
   "file_extension": ".py",
   "mimetype": "text/x-python",
   "name": "python",
   "nbconvert_exporter": "python",
   "pygments_lexer": "ipython3",
   "version": "3.10.9"
  }
 },
 "nbformat": 4,
 "nbformat_minor": 5
}
